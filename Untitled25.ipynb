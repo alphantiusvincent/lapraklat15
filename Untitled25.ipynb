{
  "nbformat": 4,
  "nbformat_minor": 0,
  "metadata": {
    "colab": {
      "provenance": []
    },
    "kernelspec": {
      "name": "python3",
      "display_name": "Python 3"
    },
    "language_info": {
      "name": "python"
    }
  },
  "cells": [
    {
      "cell_type": "code",
      "execution_count": null,
      "metadata": {
        "id": "j3pNEs9mJ54t"
      },
      "outputs": [],
      "source": [
        "from datetime import datetime\n",
        "def ubah_tanggal(teks):\n",
        "    teks = 'Pada tanggal 1945-08-17 Indonesia merdeka. Indonesia memiliki beberapa pahlawan nasional, seperti Pangeran Diponegoro (TL: 1785-11-11), Pattimura (TL: 1783-06-08) dan Ki Hajar Dewantara (1889-05-02).'\n",
        "    try:\n",
        "        tanggal = re.findall(r'\\b\\d{4}-\\d{2}-\\d{2}\\b', teks)\n",
        "        for tgl in tanggal:\n",
        "            objtgl = datetime.strptime(tgl, '%Y-%m-%d')\n",
        "            tglbaru = objtgl.strftime('%d-%m-%Y')\n",
        "            selisihhari = (datetime.now() - objtgl).days\n",
        "\n",
        "\n",
        "            print(f'{tglbaru} 00:00:00 selisih {selisihhari} hari')\n",
        "\n",
        "    except Exception as e:\n",
        "        print(f\"Terjadi kesalahan input\")\n",
        "teks = 0\n",
        "ubah_tanggal(teks)"
      ]
    },
    {
      "cell_type": "code",
      "source": [
        "import re\n",
        "import random\n",
        "import string\n",
        "def buatpass(teks):\n",
        "    try:\n",
        "        teks = 'Berikut adalah daftar email dan nama pengguna dari mailing list: anton@mail.com dimiliki oleh antonius budi@gmail.co.id dimiliki oleh budi anwari slamet@getnada.com dimiliki oleh slamet slumut matahari@tokopedia.com dimiliki oleh toko matahari'\n",
        "\n",
        "        emails = re.findall(r'\\b[A-Za-z0-9._%+-]+@[A-Za-z0-9.-]+\\.[A-Z|a-z]{2,}\\b', teks)\n",
        "        for email in emails:\n",
        "            username = email.split('@')[0]\n",
        "            password = ''.join(random.choices(string.ascii_letters, k=7))\n",
        "            password += str(random.randint(0, 9))\n",
        "            print(f'{email} username: {username} , password: {password}')\n",
        "    except:\n",
        "        print(f\"Terjadi kesalahan input tolong masukkan data yang benar\")\n",
        "teks = 0\n",
        "buatpass(teks)"
      ],
      "metadata": {
        "id": "NxHZzR-eJ6YF"
      },
      "execution_count": null,
      "outputs": []
    }
  ]
}